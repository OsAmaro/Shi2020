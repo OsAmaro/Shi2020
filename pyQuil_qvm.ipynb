{
 "cells": [
  {
   "cell_type": "markdown",
   "metadata": {},
   "source": [
    "# pyQuil QVM\n",
    "start two new terminal windows. run ```qvm -S``` and ```quilc -S``` in each. in a new terminal open jupyter lab. now you can access QVM through jupyter"
   ]
  },
  {
   "cell_type": "code",
   "execution_count": 1,
   "metadata": {},
   "outputs": [],
   "source": [
    "from pyquil import Program, get_qc\n",
    "from pyquil.gates import *\n",
    "from pyquil import get_qc, Program\n",
    "from pyquil.gates import CNOT, Z\n",
    "from pyquil.api import local_forest_runtime\n",
    "\n",
    "prog = Program(Z(0), CNOT(0, 1))\n",
    "\n",
    "with local_forest_runtime():\n",
    "    qvm = get_qc('9q-square-qvm')\n",
    "    results = qvm.run_and_measure(prog, trials=10)"
   ]
  },
  {
   "cell_type": "code",
   "execution_count": 4,
   "metadata": {},
   "outputs": [],
   "source": [
    "# construct a Bell State program\n",
    "p = Program(H(0), CNOT(0, 1))"
   ]
  },
  {
   "cell_type": "code",
   "execution_count": 8,
   "metadata": {},
   "outputs": [
    {
     "name": "stdout",
     "output_type": "stream",
     "text": [
      "[1 1 1 0 0 1 0 0 0 1]\n",
      "[1 1 1 0 0 1 0 0 0 1]\n"
     ]
    }
   ],
   "source": [
    "# run the program on a QVM\n",
    "qc = get_qc('9q-square-qvm')\n",
    "result = qc.run_and_measure(p, trials=10)\n",
    "print(result[0])\n",
    "print(result[1])"
   ]
  },
  {
   "cell_type": "code",
   "execution_count": null,
   "metadata": {},
   "outputs": [],
   "source": []
  }
 ],
 "metadata": {
  "kernelspec": {
   "display_name": "Python 3",
   "language": "python",
   "name": "python3"
  },
  "language_info": {
   "codemirror_mode": {
    "name": "ipython",
    "version": 3
   },
   "file_extension": ".py",
   "mimetype": "text/x-python",
   "name": "python",
   "nbconvert_exporter": "python",
   "pygments_lexer": "ipython3",
   "version": "3.7.4"
  }
 },
 "nbformat": 4,
 "nbformat_minor": 4
}
