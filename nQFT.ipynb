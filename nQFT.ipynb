{
 "cells": [
  {
   "cell_type": "markdown",
   "metadata": {},
   "source": [
    "# n-qubit QFT\n",
    "Here we automate the construction of QFT n-qubit circuits\n",
    "We use parts of this notebook https://qiskit.org/textbook/ch-algorithms/quantum-fourier-transform.html#generalqft"
   ]
  },
  {
   "cell_type": "code",
   "execution_count": 1,
   "metadata": {},
   "outputs": [],
   "source": [
    "import numpy as np\n",
    "from numpy import pi\n",
    "# importing Qiskit\n",
    "from qiskit import QuantumCircuit, execute, Aer, IBMQ\n",
    "from qiskit.providers.ibmq import least_busy\n",
    "from qiskit.tools.monitor import job_monitor\n",
    "from qiskit.visualization import plot_histogram, plot_bloch_multivector"
   ]
  },
  {
   "cell_type": "code",
   "execution_count": 51,
   "metadata": {},
   "outputs": [
    {
     "data": {
      "image/png": "[encoded data removed]",
      "text/plain": [
       "<Figure size 1049.8x325.08 with 1 Axes>"
      ]
     },
     "execution_count": 51,
     "metadata": {},
     "output_type": "execute_result"
    }
   ],
   "source": [
    "def qft_rotations(circuit, n):\n",
    "    if n == 0: # Exit function if circuit is empty\n",
    "        return circuit\n",
    "    n -= 1 # Indexes start from 0\n",
    "    circuit.h(n) # Apply the H-gate to the most significant qubit\n",
    "    for qubit in range(n):\n",
    "        # For each less significant qubit, we need to do a\n",
    "        # smaller-angled controlled rotation: \n",
    "        circuit.cp(pi/2**(n-qubit), qubit, n)\n",
    "        \n",
    "def qft_rotations(circuit, n):\n",
    "    \"\"\"Performs qft on the first n qubits in circuit (without swaps)\"\"\"\n",
    "    if n == 0:\n",
    "        return circuit\n",
    "    n -= 1\n",
    "    circuit.h(n)\n",
    "    for qubit in range(n):\n",
    "        circuit.cp(pi/2**(n-qubit), qubit, n)\n",
    "    # At the end of our function, we call the same function again on\n",
    "    # the next qubits (we reduced n by one earlier in the function)\n",
    "    qft_rotations(circuit, n)\n",
    "    \n",
    "def swap_registers(circuit, n):\n",
    "    for qubit in range(n//2):\n",
    "        circuit.swap(qubit, n-qubit-1)\n",
    "    return circuit\n",
    "\n",
    "def qft(circuit, n):\n",
    "    \"\"\"QFT on the first n qubits in circuit\"\"\"\n",
    "    qft_rotations(circuit, n)\n",
    "    swap_registers(circuit, n)\n",
    "    return circuit\n",
    "\n",
    "# Let's see how it looks:\n",
    "nqubits = 5\n",
    "qc = QuantumCircuit(nqubits)\n",
    "qft(qc,nqubits)\n",
    "qc.draw('mpl')"
   ]
  },
  {
   "cell_type": "code",
   "execution_count": 52,
   "metadata": {},
   "outputs": [],
   "source": [
    "def inverse_qft(circuit, n):\n",
    "    \"\"\"Does the inverse QFT on the first n qubits in circuit\"\"\"\n",
    "    # First we create a QFT circuit of the correct size:\n",
    "    qft_circ = qft(QuantumCircuit(n), n)\n",
    "    # Then we take the inverse of this circuit\n",
    "    invqft_circ = qft_circ.inverse()\n",
    "    # And add it to the first n qubits in our existing circuit\n",
    "    circuit.append(invqft_circ, circuit.qubits[:n])\n",
    "    return circuit.decompose() # .decompose() allows us to see the individual gates"
   ]
  },
  {
   "cell_type": "code",
   "execution_count": 53,
   "metadata": {},
   "outputs": [],
   "source": [
    "# convert QFT to a custom gate\n",
    "nqubits = 5\n",
    "qc_tmp = QuantumCircuit(nqubits)\n",
    "qft(qc_tmp,nqubits)\n",
    "\n",
    "# we can convert the previous circuit to a custom gate\n",
    "QFT_gate = qc_tmp.to_gate()\n",
    "QFT_gate.label = \"QFT\"\n",
    "\n",
    "# make gate from inverse circuit\n",
    "QFT_inverse = qc_tmp.inverse()#.decompose()\n",
    "QFT_inverse_gate = QFT_inverse.to_gate()\n",
    "QFT_inverse_gate.label = \"QFT${}^{-1}$\""
   ]
  },
  {
   "cell_type": "code",
   "execution_count": 54,
   "metadata": {},
   "outputs": [
    {
     "data": {
      "image/png": "[encoded data removed]",
      "text/plain": [
       "<Figure size 267.197x325.08 with 1 Axes>"
      ]
     },
     "execution_count": 54,
     "metadata": {},
     "output_type": "execute_result"
    }
   ],
   "source": [
    "# we can then add the new gate to a circuit many times\n",
    "qc = QuantumCircuit(nqubits)\n",
    "qc.append(QFT_gate,np.arange(0,nqubits).tolist())\n",
    "qc.append(QFT_inverse_gate,np.arange(0,nqubits).tolist())\n",
    "qc.draw('mpl') # .decompose()"
   ]
  },
  {
   "cell_type": "code",
   "execution_count": 55,
   "metadata": {},
   "outputs": [
    {
     "name": "stdout",
     "output_type": "stream",
     "text": [
      "Circuit unitary:\n",
      " [[ 1.00000000e+00 -3.07708769e-17 -3.68979431e-17 ...  1.25378061e-17\n",
      "   3.10051402e-17  3.49046165e-17]\n",
      " [ 5.17149002e-17  1.00000000e+00 -4.00003722e-17 ...  1.33277877e-17\n",
      "   1.32582352e-17  5.10877058e-17]\n",
      " [ 8.68731000e-18  4.78135859e-17  1.00000000e+00 ...  2.34016307e-18\n",
      "   4.39774541e-17  8.10967635e-18]\n",
      " ...\n",
      " [-8.90697586e-18 -5.37873416e-17 -7.35578208e-18 ...  1.00000000e+00\n",
      "  -4.48481612e-17 -3.42465270e-17]\n",
      " [-6.82716302e-17 -1.61609399e-17 -5.31625751e-17 ...  4.31683607e-17\n",
      "   1.00000000e+00 -3.69603536e-17]\n",
      " [-2.59978975e-17 -2.34471750e-17 -8.52415154e-18 ...  3.91882229e-17\n",
      "   4.60761579e-17  1.00000000e+00]]\n"
     ]
    }
   ],
   "source": [
    "# We now extract the overall unitary matrix from the circuit, which should be very close to the identity\n",
    "\n",
    "# Select the UnitarySimulator from the Aer provider\n",
    "simulator = Aer.get_backend('unitary_simulator')\n",
    "# Execute and get counts\n",
    "result = execute(qc, simulator).result()\n",
    "unitary = result.get_unitary(qc)\n",
    "print(\"Circuit unitary:\\n\", np.real(unitary) )"
   ]
  },
  {
   "cell_type": "code",
   "execution_count": null,
   "metadata": {},
   "outputs": [],
   "source": []
  }
 ],
 "metadata": {
  "kernelspec": {
   "display_name": "Python 3",
   "language": "python",
   "name": "python3"
  },
  "language_info": {
   "codemirror_mode": {
    "name": "ipython",
    "version": 3
   },
   "file_extension": ".py",
   "mimetype": "text/x-python",
   "name": "python",
   "nbconvert_exporter": "python",
   "pygments_lexer": "ipython3",
   "version": "3.7.4"
  }
 },
 "nbformat": 4,
 "nbformat_minor": 4
}
